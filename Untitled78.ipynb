{
  "nbformat": 4,
  "nbformat_minor": 0,
  "metadata": {
    "colab": {
      "provenance": [],
      "authorship_tag": "ABX9TyOp+tkWrPXxnHPD4i+SN6yX",
      "include_colab_link": true
    },
    "kernelspec": {
      "name": "python3",
      "display_name": "Python 3"
    },
    "language_info": {
      "name": "python"
    }
  },
  "cells": [
    {
      "cell_type": "markdown",
      "metadata": {
        "id": "view-in-github",
        "colab_type": "text"
      },
      "source": [
        "<a href=\"https://colab.research.google.com/github/vishnudorigundla/WDM_EXP5/blob/main/Untitled78.ipynb\" target=\"_parent\"><img src=\"https://colab.research.google.com/assets/colab-badge.svg\" alt=\"Open In Colab\"/></a>"
      ]
    },
    {
      "cell_type": "code",
      "execution_count": 7,
      "metadata": {
        "id": "2yx5OXjqWov5"
      },
      "outputs": [],
      "source": [
        "# Developed By : D.vishnu vardhan reddy\n",
        "# Reference No : 212221230023\n",
        "\n",
        "\n",
        "import numpy as np\n",
        "import pandas as pd\n",
        "\n",
        "class BooleanRetrieval:\n",
        "    def __init__(self):\n",
        "        self.index = {}\n",
        "        self.documents_matrix = None\n",
        "\n",
        "    def index_document(self, doc_id, text):\n",
        "        terms = text.lower().split()\n",
        "        print(\"Document -\", doc_id, terms)\n",
        "\n",
        "        for term in terms:\n",
        "            if term not in self.index:\n",
        "                self.index[term] = set()\n",
        "            self.index[term].add(doc_id)\n",
        "\n",
        "    def create_documents_matrix(self, documents):\n",
        "        terms = list(self.index.keys())\n",
        "        num_docs = len(documents)\n",
        "        num_terms = len(terms)\n",
        "\n",
        "        self.documents_matrix = np.zeros((num_docs, num_terms), dtype=int)\n",
        "\n",
        "        for i, (doc_id, text) in enumerate(documents.items()):\n",
        "            doc_terms = text.lower().split()\n",
        "            for term in doc_terms:\n",
        "                if term in self.index:\n",
        "                    term_id = terms.index(term)\n",
        "                    self.documents_matrix[i, term_id] = 1\n",
        "\n",
        "    def print_documents_matrix_table(self):\n",
        "        df = pd.DataFrame(self.documents_matrix, columns=self.index.keys())\n",
        "        print(df)\n",
        "\n",
        "    def print_all_terms(self):\n",
        "        print(\"All terms in the documents:\")\n",
        "        print(list(self.index.keys()))\n",
        "\n",
        "    def boolean_search(self, query):\n",
        "        query_terms = query.lower().split()\n",
        "        results = None\n",
        "\n",
        "        for term in query_terms:\n",
        "            doc_ids = self.index.get(term, set())\n",
        "            if results is None:\n",
        "                results = doc_ids.copy()\n",
        "            else:\n",
        "                if term.startswith('not'):\n",
        "                    results.difference_update(doc_ids)\n",
        "                elif term == 'or':\n",
        "                    results.update(doc_ids)\n",
        "                elif term == 'and':\n",
        "                    results.intersection_update(doc_ids)\n",
        "\n",
        "        return list(results) if results else []"
      ]
    },
    {
      "cell_type": "code",
      "source": [
        "if __name__ == \"__main__\":\n",
        "    indexer = BooleanRetrieval()\n",
        "\n",
        "\n",
        "    documents = {\n",
        "        1: \"Python is a programming language\",\n",
        "        2: \"Information retrieval deals with finding information\",\n",
        "        3: \"Boolean models are used in information retrieval\"\n",
        "    }\n",
        "\n",
        "    for doc_id, text in documents.items():\n",
        "        indexer.index_document(doc_id, text)\n",
        "\n",
        "\n",
        "    indexer.create_documents_matrix(documents)\n",
        "    indexer.print_documents_matrix_table()\n",
        "\n",
        "\n",
        "    indexer.print_all_terms()\n",
        "\n",
        "\n",
        "    query1 = input(\"Enter your boolean query: \")\n",
        "    results = indexer.boolean_search(query1)\n",
        "    if results:\n",
        "        print(f\"\\nResults for '{query1}': {results}\")\n",
        "    else:\n",
        "        print(\"No results found for the query.\")"
      ],
      "metadata": {
        "colab": {
          "base_uri": "https://localhost:8080/"
        },
        "id": "sGo8SDhrXq99",
        "outputId": "7892975e-89af-4cb6-853f-381e979b9887"
      },
      "execution_count": 6,
      "outputs": [
        {
          "output_type": "stream",
          "name": "stdout",
          "text": [
            "Document - 1 ['python', 'is', 'a', 'programming', 'language']\n",
            "Document - 2 ['information', 'retrieval', 'deals', 'with', 'finding', 'information']\n",
            "Document - 3 ['boolean', 'models', 'are', 'used', 'in', 'information', 'retrieval']\n",
            "   python  is  a  programming  language  information  retrieval  deals  with  \\\n",
            "0       1   1  1            1         1            0          0      0     0   \n",
            "1       0   0  0            0         0            1          1      1     1   \n",
            "2       0   0  0            0         0            1          1      0     0   \n",
            "\n",
            "   finding  boolean  models  are  used  in  \n",
            "0        0        0       0    0     0   0  \n",
            "1        1        0       0    0     0   0  \n",
            "2        0        1       1    1     1   1  \n",
            "All terms in the documents:\n",
            "['python', 'is', 'a', 'programming', 'language', 'information', 'retrieval', 'deals', 'with', 'finding', 'boolean', 'models', 'are', 'used', 'in']\n",
            "Enter your boolean query: information\n",
            "\n",
            "Results for 'information': [2, 3]\n"
          ]
        }
      ]
    }
  ]
}